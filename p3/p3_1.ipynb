{
  "nbformat": 4,
  "nbformat_minor": 0,
  "metadata": {
    "colab": {
      "name": "part_1.ipynb",
      "provenance": [],
      "collapsed_sections": []
    },
    "kernelspec": {
      "name": "python3",
      "display_name": "Python 3"
    },
    "language_info": {
      "name": "python"
    }
  },
  "cells": [
    {
      "cell_type": "markdown",
      "source": [
        "# Labeling tools"
      ],
      "metadata": {
        "id": "BTiP0uIKFXmV"
      }
    },
    {
      "cell_type": "markdown",
      "source": [
        "\n",
        "\n",
        "*   [LabelImg](https://github.com/tzutalin/labelImg)\n",
        "*   [CVAT](https://github.com/openvinotoolkit/cvat)\n",
        "\n"
      ],
      "metadata": {
        "id": "ZjYsexlDFXai"
      }
    },
    {
      "cell_type": "markdown",
      "source": [
        "# Datasets for object detection\n",
        "\n",
        "1.   [Pascal VOC](http://host.robots.ox.ac.uk/pascal/VOC/)  \n",
        "\n",
        "2.   [COCO](https://cocodataset.org/)\n",
        "\n",
        "3.   [Open Images](https://storage.googleapis.com/openimages/web/index.html)\n",
        "\n",
        "\n",
        "   \n",
        "\n",
        "\n"
      ],
      "metadata": {
        "id": "t1OyjocSNH7E"
      }
    },
    {
      "cell_type": "markdown",
      "source": [
        "# Install dependencies"
      ],
      "metadata": {
        "id": "vROs9LpJEJdb"
      }
    },
    {
      "cell_type": "code",
      "source": [
        "!pip install fiftyone==0.14.2 \n",
        "!pip install ipywidgets>=7.5\n",
        "!pip install tensorflow torch torchvision umap-learn\n",
        "!pip install albumentations==1.1.0\n",
        "!pip install opencv-python==4.5.5.62 \n",
        "!pip install opencv-python-headless==4.5.4.60"
      ],
      "metadata": {
        "id": "mwjXwBE1_lOm"
      },
      "execution_count": null,
      "outputs": []
    },
    {
      "cell_type": "markdown",
      "source": [
        "# Load data"
      ],
      "metadata": {
        "id": "KhRShAEOEQbU"
      }
    },
    {
      "cell_type": "code",
      "execution_count": null,
      "metadata": {
        "id": "aKha2Gc4_KBP"
      },
      "outputs": [],
      "source": [
        "import fiftyone as fo\n",
        "import fiftyone.zoo as foz"
      ]
    },
    {
      "cell_type": "code",
      "source": [
        "print(foz.list_zoo_datasets())"
      ],
      "metadata": {
        "id": "GTYccc6pTQSw"
      },
      "execution_count": null,
      "outputs": []
    },
    {
      "cell_type": "code",
      "source": [
        "fo.utils.openimages.get_classes(version='v6', dataset_dir=None)"
      ],
      "metadata": {
        "id": "scxJaDmnD938"
      },
      "execution_count": null,
      "outputs": []
    },
    {
      "cell_type": "code",
      "source": [
        "classes_list = [\"Sparrow\"]"
      ],
      "metadata": {
        "id": "IueIK-xoDUOB"
      },
      "execution_count": null,
      "outputs": []
    },
    {
      "cell_type": "code",
      "source": [
        "sparrow_train_dataset = foz.load_zoo_dataset(\n",
        "    \"open-images-v6\", \n",
        "    split=\"train\", \n",
        "    label_types=[\"detections\"], \n",
        "    classes=classes_list,\n",
        "    max_samples=300,\n",
        "    seed=51,\n",
        "    shuffle=True,\n",
        "    dataset_name=\"sparrow_train\"\n",
        ")"
      ],
      "metadata": {
        "id": "KfUUppB9_cFO"
      },
      "execution_count": null,
      "outputs": []
    },
    {
      "cell_type": "code",
      "source": [
        "sparrow_test_dataset = foz.load_zoo_dataset(\n",
        "    \"open-images-v6\", \n",
        "    split=\"test\", \n",
        "    label_types=[\"detections\"], \n",
        "    classes=classes_list,\n",
        "    max_samples=100,\n",
        "    seed=51,\n",
        "    shuffle=True,\n",
        "    dataset_name=\"sparrow_test\",\n",
        ")"
      ],
      "metadata": {
        "id": "6HVssuWEAIH8"
      },
      "execution_count": null,
      "outputs": []
    },
    {
      "cell_type": "code",
      "source": [
        "sparrow_val_dataset = foz.load_zoo_dataset(\n",
        "    \"open-images-v6\", \n",
        "    split=\"validation\", \n",
        "    label_types=[\"detections\"], \n",
        "    classes=classes_list,\n",
        "    max_samples=100,\n",
        "    seed=51,\n",
        "    shuffle=True,\n",
        "    dataset_name=\"sparrow_val\",\n",
        ")\n"
      ],
      "metadata": {
        "id": "DxCmWXsuAHb3"
      },
      "execution_count": null,
      "outputs": []
    },
    {
      "cell_type": "code",
      "source": [
        "len(sparrow_train_dataset), len(sparrow_test_dataset), len(sparrow_val_dataset)"
      ],
      "metadata": {
        "id": "EHddS85iTxpL"
      },
      "execution_count": null,
      "outputs": []
    },
    {
      "cell_type": "code",
      "source": [
        "session = fo.launch_app(sparrow_train_dataset)"
      ],
      "metadata": {
        "id": "HS8oHkd2huXf"
      },
      "execution_count": null,
      "outputs": []
    },
    {
      "cell_type": "code",
      "source": [
        "from fiftyone import ViewField as F"
      ],
      "metadata": {
        "id": "g2U-mTq2JHCB"
      },
      "execution_count": null,
      "outputs": []
    },
    {
      "cell_type": "code",
      "source": [
        "sparrow_train_dataset = fo.load_dataset(\"sparrow_train\").filter_labels( \"detections\", (F(\"label\") == \"Sparrow\"))\n",
        "sparrow_test_dataset = fo.load_dataset(\"sparrow_test\").filter_labels( \"detections\", (F(\"label\") == \"Sparrow\"))\n",
        "sparrow_val_dataset = fo.load_dataset(\"sparrow_val\").filter_labels( \"detections\", (F(\"label\") == \"Sparrow\"))"
      ],
      "metadata": {
        "id": "sljlqm92IsWk"
      },
      "execution_count": null,
      "outputs": []
    },
    {
      "cell_type": "markdown",
      "source": [
        "## Closer look at sample"
      ],
      "metadata": {
        "id": "w-yxpwCJEq7w"
      }
    },
    {
      "cell_type": "code",
      "source": [
        "img_path = sparrow_train_dataset.values(\"filepath\")[42]\n",
        "sample = sparrow_train_dataset[img_path]\n",
        "sample"
      ],
      "metadata": {
        "id": "mRaBg9ABBeoC"
      },
      "execution_count": null,
      "outputs": []
    },
    {
      "cell_type": "code",
      "source": [
        "detections = sample[\"detections\"].detections\n",
        "detections"
      ],
      "metadata": {
        "id": "H3n9pZsUBelL"
      },
      "execution_count": null,
      "outputs": []
    },
    {
      "cell_type": "code",
      "source": [
        ""
      ],
      "metadata": {
        "id": "61inworuBejJ"
      },
      "execution_count": null,
      "outputs": []
    },
    {
      "cell_type": "markdown",
      "source": [
        "# Prepare Dataset class"
      ],
      "metadata": {
        "id": "CF9CyechC0YW"
      }
    },
    {
      "cell_type": "code",
      "source": [
        "import torch\n",
        "import cv2\n",
        "\n",
        "torch.manual_seed(42)"
      ],
      "metadata": {
        "id": "e2v4ZoLgBeeM"
      },
      "execution_count": null,
      "outputs": []
    },
    {
      "cell_type": "code",
      "source": [
        "\n",
        "class FiftyOneTorchDataset(torch.utils.data.Dataset):\n",
        "    \"\"\"A class to construct a PyTorch dataset from a FiftyOne dataset.\n",
        "    \n",
        "    Args:\n",
        "        fiftyone_dataset: a FiftyOne dataset or view that will be used for training or testing\n",
        "        transforms (None): a list of PyTorch transforms to apply to images and targets when loading\n",
        "        gt_field (\"ground_truth\"): the name of the field in fiftyone_dataset that contains the \n",
        "            desired labels to load\n",
        "        classes (None): a list of class strings that are used to define the mapping between\n",
        "            class names and indices. If None, it will use all classes present in the given fiftyone_dataset.\n",
        "    \"\"\"\n",
        "\n",
        "    def __init__(\n",
        "        self,\n",
        "        fiftyone_dataset,\n",
        "        transforms=None,\n",
        "        gt_field=\"detections\",\n",
        "        classes=None,\n",
        "    ):\n",
        "        self.samples = fiftyone_dataset\n",
        "        self.transforms = transforms\n",
        "        self.gt_field = gt_field\n",
        "\n",
        "        self.img_paths = self.samples.values(\"filepath\")\n",
        "\n",
        "        self.classes = classes\n",
        "        if not self.classes:\n",
        "            # Get list of distinct labels that exist in the view\n",
        "            self.classes = self.samples.distinct(\n",
        "                \"%s.detections.label\" % gt_field\n",
        "            )\n",
        "\n",
        "        if self.classes[0] != \"background\":\n",
        "            self.classes = [\"background\"] + self.classes\n",
        "\n",
        "        self.labels_map_rev = {c: i for i, c in enumerate(self.classes)}\n",
        "\n",
        "    def __getitem__(self, idx):\n",
        "        # reading the images and converting them to correct color  \n",
        "        img_path = self.img_paths[idx]\n",
        "        img = cv2.imread(img_path)\n",
        "        img = cv2.cvtColor(img, cv2.COLOR_BGR2RGB)\n",
        "\n",
        "        # prepairing target\n",
        "        sample = self.samples[img_path]   \n",
        "        # cv2 image gives size as height x width    \n",
        "        wt = img.shape[1]\n",
        "        ht = img.shape[0]\n",
        "\n",
        "        boxes = []\n",
        "        labels = []\n",
        "\n",
        "        detections = sample[self.gt_field].detections\n",
        "        for det in detections:\n",
        "            if det.label not in self.classes:\n",
        "                continue\n",
        "                \n",
        "            category_id = self.labels_map_rev[det.label]\n",
        "            x, y, w, h = det[\"bounding_box\"]\n",
        "            boxes.append([x * wt, y * ht, (x + w) * wt, (y + h) * ht])\n",
        "            labels.append(category_id)\n",
        "\n",
        "        \n",
        "        # applying augmentations\n",
        "        if self.transforms is not None:\n",
        "            transformed = self.transforms(image=img,bboxes=boxes, category_ids=labels)\n",
        "            img = transformed[\"image\"]\n",
        "            boxes = transformed[\"bboxes\"]\n",
        "            labels = transformed[\"category_ids\"]\n",
        "\n",
        "        # convert boxes into a torch.Tensor                \n",
        "        boxes = torch.as_tensor(boxes, dtype=torch.float32)                \n",
        "            \n",
        "        target = {}\n",
        "        target[\"boxes\"] = boxes\n",
        "        target[\"labels\"] = torch.as_tensor(labels, dtype=torch.int64)\n",
        "        target[\"image_id\"] = torch.as_tensor([idx])\n",
        "\n",
        "        # getting the areas of the boxes\n",
        "        target[\"area\"] = (boxes[:, 3] - boxes[:, 1]) * (boxes[:, 2] - boxes[:, 0])\n",
        "\n",
        "        # suppose all instances are not crowd\n",
        "        target[\"iscrowd\"] = torch.zeros((boxes.shape[0],), dtype=torch.int64)\n",
        "\n",
        "        return img, target\n",
        "\n",
        "    def __len__(self):\n",
        "        return len(self.img_paths)\n",
        "\n",
        "    def get_classes(self):\n",
        "        return self.classes"
      ],
      "metadata": {
        "id": "gCeuSkhOBebY"
      },
      "execution_count": null,
      "outputs": []
    },
    {
      "cell_type": "markdown",
      "source": [
        "# Augmentations"
      ],
      "metadata": {
        "id": "fK2s2NtJDdtq"
      }
    },
    {
      "cell_type": "code",
      "source": [
        "import albumentations as A\n",
        "from albumentations.pytorch.transforms import ToTensorV2"
      ],
      "metadata": {
        "id": "dYEDvu7HBeUe"
      },
      "execution_count": null,
      "outputs": []
    },
    {
      "cell_type": "code",
      "source": [
        "train_transform = A.Compose(\n",
        "    [\n",
        "        A.LongestMaxSize(320),\n",
        "        A.PadIfNeeded(min_height=320, min_width=320, border_mode=0),\n",
        "        A.RandomSizedBBoxSafeCrop(width=300, height=300, erosion_rate=0.1),\n",
        "     \n",
        "        A.HorizontalFlip(p=0.5),\n",
        "        A.RandomBrightnessContrast(p=0.3),\n",
        "        A.RGBShift(r_shift_limit=15, g_shift_limit=15, b_shift_limit=15, p=0.3),\n",
        "        A.ToFloat(max_value=255, p=1, always_apply=True),\n",
        "\n",
        "        ToTensorV2(p=1.0)\n",
        "    ],\n",
        "    bbox_params=A.BboxParams(format='pascal_voc', label_fields=['category_ids']),\n",
        ")\n",
        "\n",
        "test_transform = A.Compose(\n",
        "    [\n",
        "        A.LongestMaxSize(300),\n",
        "        A.PadIfNeeded(min_height=300, min_width=300, border_mode=0),\n",
        "        A.ToFloat(max_value=255, p=1, always_apply=True),\n",
        "\n",
        "        ToTensorV2(p=1.0)\n",
        "    ],\n",
        "    bbox_params=A.BboxParams(format='pascal_voc', label_fields=['category_ids']),\n",
        ")"
      ],
      "metadata": {
        "id": "HFqZdG-jBeR3"
      },
      "execution_count": null,
      "outputs": []
    },
    {
      "cell_type": "code",
      "source": [
        "torch_dataset = FiftyOneTorchDataset(sparrow_train_dataset, train_transform, \n",
        "        classes=classes_list, gt_field=\"detections\")\n",
        "torch_dataset_test = FiftyOneTorchDataset(sparrow_test_dataset, test_transform, \n",
        "        classes=classes_list, gt_field=\"detections\")"
      ],
      "metadata": {
        "id": "PzV51IQJBePL"
      },
      "execution_count": null,
      "outputs": []
    },
    {
      "cell_type": "markdown",
      "source": [
        "# Visualization"
      ],
      "metadata": {
        "id": "pw3T5aNlFVO_"
      }
    },
    {
      "cell_type": "code",
      "source": [
        "from matplotlib import pyplot as plt\n",
        "import numpy as np"
      ],
      "metadata": {
        "id": "vg_uDT9jBd-a"
      },
      "execution_count": null,
      "outputs": []
    },
    {
      "cell_type": "code",
      "source": [
        "BOX_COLOR = (255, 0, 0) # Red\n",
        "TEXT_COLOR = (255, 255, 255) # White\n",
        "\n",
        "\n",
        "def visualize_bbox(img, bbox, class_name, color=BOX_COLOR, thickness=2):\n",
        "    \"\"\"Visualizes a single bounding box on the image\"\"\"\n",
        "\n",
        "    x_min, y_min, x_max, y_max = bbox\n",
        "    x_min, x_max, y_min, y_max = int(x_min), int(x_max), int(y_min), int(y_max)\n",
        "   \n",
        "    cv2.rectangle(img, (x_min, y_min), (x_max, y_max), color=color, thickness=thickness)\n",
        "    \n",
        "    ((text_width, text_height), _) = cv2.getTextSize(class_name, cv2.FONT_HERSHEY_SIMPLEX, 0.35, 1)    \n",
        "    cv2.rectangle(img, (x_min, y_min - int(1.3 * text_height)), (x_min + text_width, y_min), BOX_COLOR, -1)\n",
        "    cv2.putText(\n",
        "        img,\n",
        "        text=class_name,\n",
        "        org=(x_min, y_min - int(0.3 * text_height)),\n",
        "        fontFace=cv2.FONT_HERSHEY_SIMPLEX,\n",
        "        fontScale=0.35, \n",
        "        color=TEXT_COLOR, \n",
        "        lineType=cv2.LINE_AA,\n",
        "    )\n",
        "    return img\n",
        "\n",
        "\n",
        "def visualize(image, bboxes, category_ids, category_id_to_name):\n",
        "    img = image.permute(1, 2, 0).numpy() if type(image) is torch.Tensor else image.copy()\n",
        "    if img.dtype != np.uint8:\n",
        "        img = (img * 255).astype(np.uint8)\n",
        "\n",
        "    for bbox, category_id in zip(bboxes, category_ids):\n",
        "        class_name = category_id_to_name[category_id.item()]\n",
        "        img = visualize_bbox(img, bbox, class_name)\n",
        "    plt.figure(figsize=(6, 6))\n",
        "    plt.axis('off')\n",
        "    plt.imshow(img)"
      ],
      "metadata": {
        "id": "7k8FQEcFFbyC"
      },
      "execution_count": null,
      "outputs": []
    },
    {
      "cell_type": "code",
      "source": [
        "category_id_to_name = {i: c for i, c in enumerate(torch_dataset.get_classes())}\n",
        "category_id_to_name"
      ],
      "metadata": {
        "id": "AXZMAYd0GlEh"
      },
      "execution_count": null,
      "outputs": []
    },
    {
      "cell_type": "code",
      "source": [
        "img, target = torch_dataset[42]\n",
        "visualize(\n",
        "    img,\n",
        "    target['boxes'],\n",
        "    target['labels'],\n",
        "    category_id_to_name,\n",
        ")"
      ],
      "metadata": {
        "id": "lRTk9aiKFbvO"
      },
      "execution_count": null,
      "outputs": []
    },
    {
      "cell_type": "code",
      "source": [
        "img, target = torch_dataset_test[42]\n",
        "visualize(\n",
        "    img,\n",
        "    target['boxes'],\n",
        "    target['labels'],\n",
        "    category_id_to_name,\n",
        ")"
      ],
      "metadata": {
        "id": "J6M6R6jqFbo6"
      },
      "execution_count": null,
      "outputs": []
    },
    {
      "cell_type": "code",
      "source": [
        ""
      ],
      "metadata": {
        "id": "J3Bk3v3ZqzQO"
      },
      "execution_count": null,
      "outputs": []
    },
    {
      "cell_type": "code",
      "source": [
        ""
      ],
      "metadata": {
        "id": "-gk1PyYnqzIl"
      },
      "execution_count": null,
      "outputs": []
    },
    {
      "cell_type": "code",
      "source": [
        ""
      ],
      "metadata": {
        "id": "qHB-T5CqqzAR"
      },
      "execution_count": null,
      "outputs": []
    },
    {
      "cell_type": "markdown",
      "source": [
        "# Training"
      ],
      "metadata": {
        "id": "8ZPXNwPxDbCg"
      }
    },
    {
      "cell_type": "code",
      "source": [
        "# Clone TorchVision repo and copy helper files\n",
        "!git clone https://github.com/pytorch/vision.git\n",
        "%cd vision\n",
        "!git checkout v0.3.0\n",
        "%cd ..\n",
        "!cp vision/references/detection/utils.py ./\n",
        "!cp vision/references/detection/transforms.py ./\n",
        "!cp vision/references/detection/coco_eval.py ./\n",
        "!cp vision/references/detection/engine.py ./\n",
        "!cp vision/references/detection/coco_utils.py ./\n",
        "\n"
      ],
      "metadata": {
        "id": "Uyxej2388bKR"
      },
      "execution_count": null,
      "outputs": []
    },
    {
      "cell_type": "code",
      "source": [
        "from engine import train_one_epoch, evaluate\n",
        "import utils"
      ],
      "metadata": {
        "id": "Y7D0-UjPFbkq"
      },
      "execution_count": null,
      "outputs": []
    },
    {
      "cell_type": "code",
      "source": [
        "import torchvision\n",
        "model = torchvision.models.detection.ssd300_vgg16(pretrained=True)"
      ],
      "metadata": {
        "id": "DYj8eQZF8nl7"
      },
      "execution_count": null,
      "outputs": []
    },
    {
      "cell_type": "markdown",
      "source": [
        "[SSD paper](https://arxiv.org/abs/1512.02325)"
      ],
      "metadata": {
        "id": "0l6GXMzEV3tU"
      }
    },
    {
      "cell_type": "markdown",
      "source": [
        "![image.png](data:image/png;base64,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)"
      ],
      "metadata": {
        "id": "D5tRJMx7WMOi"
      }
    },
    {
      "cell_type": "code",
      "source": [
        "model"
      ],
      "metadata": {
        "id": "AYLCxbybVP7W"
      },
      "execution_count": null,
      "outputs": []
    },
    {
      "cell_type": "code",
      "source": [
        "from torchvision.models.detection.ssd import SSDHead\n",
        "head = SSDHead(in_channels=[512, 1024, 512, 256, 256, 256] , num_anchors=[4,6,6,6,4,4] , num_classes=2)\n",
        "model.head = head"
      ],
      "metadata": {
        "id": "jeGaIA3Z4gdX"
      },
      "execution_count": null,
      "outputs": []
    },
    {
      "cell_type": "code",
      "source": [
        "model"
      ],
      "metadata": {
        "id": "0Mmz0_GlQdKm"
      },
      "execution_count": null,
      "outputs": []
    },
    {
      "cell_type": "markdown",
      "source": [
        "[Source code of SSD](https://pytorch.org/vision/master/_modules/torchvision/models/detection/ssd.html)"
      ],
      "metadata": {
        "id": "JPTtsHVFX3YA"
      }
    },
    {
      "cell_type": "code",
      "source": [
        ""
      ],
      "metadata": {
        "id": "_kqBec3EX20m"
      },
      "execution_count": null,
      "outputs": []
    },
    {
      "cell_type": "code",
      "source": [
        "bs = 2\n",
        "test_bs = 1\n",
        "num_epochs = 10\n",
        "learning_rate = 0.0005"
      ],
      "metadata": {
        "id": "2eO1eXIa6cpO"
      },
      "execution_count": null,
      "outputs": []
    },
    {
      "cell_type": "code",
      "source": [
        "data_loader = torch.utils.data.DataLoader(\n",
        "    torch_dataset, batch_size=bs, shuffle=True, num_workers=2,\n",
        "    collate_fn=utils.collate_fn)\n",
        "\n",
        "data_loader_test = torch.utils.data.DataLoader(\n",
        "    torch_dataset_test, batch_size=test_bs, shuffle=False, num_workers=2,\n",
        "    collate_fn=utils.collate_fn)\n",
        "\n",
        "# train on the GPU or on the CPU, if a GPU is not available\n",
        "device = torch.device('cuda') if torch.cuda.is_available() else torch.device('cpu')\n",
        "print(\"Using device %s\" % device)\n",
        "\n",
        "# move model to the right device\n",
        "model.to(device)\n",
        "\n",
        "# construct an optimizer\n",
        "params = [p for p in model.parameters() if p.requires_grad]\n",
        "optimizer = torch.optim.SGD(params, lr=learning_rate,\n",
        "                            momentum=0.9, weight_decay=0.0005)\n",
        "# and a learning rate scheduler\n",
        "lr_scheduler = torch.optim.lr_scheduler.StepLR(optimizer,\n",
        "                                                step_size=3,\n",
        "                                                gamma=0.1)"
      ],
      "metadata": {
        "id": "BqBqfE2v8w_u"
      },
      "execution_count": null,
      "outputs": []
    },
    {
      "cell_type": "code",
      "source": [
        "for epoch in range(num_epochs):\n",
        "    # train for one epoch, printing every 10 iterations\n",
        "    train_one_epoch(model, optimizer, data_loader, device, epoch, print_freq=10)\n",
        "\n",
        "    # update the learning rate\n",
        "    lr_scheduler.step()\n",
        "    # evaluate on the test dataset\n",
        "    evaluate(model, data_loader_test, device=device)"
      ],
      "metadata": {
        "id": "k3PEu5E64ga2"
      },
      "execution_count": null,
      "outputs": []
    },
    {
      "cell_type": "markdown",
      "source": [
        "# Evaluating"
      ],
      "metadata": {
        "id": "S5Q_biXKQu83"
      }
    },
    {
      "cell_type": "code",
      "source": [
        "import fiftyone.utils.coco as fouc\n",
        "\n",
        "def convert_torch_predictions(preds, det_id, s_id, w, h, classes):\n",
        "    # Convert the outputs of the torch model into a FiftyOne Detections object\n",
        "    dets = []\n",
        "    scale = max(w, h)\n",
        "    shift = abs(w - h) / 2\n",
        "    if w > h:\n",
        "        shift = np.tile([0,1], 2) * shift\n",
        "    else:\n",
        "        shift = np.tile([1,0], 2) * shift\n",
        "        \n",
        "    for bbox, label, score in zip(\n",
        "        preds[\"boxes\"].cpu().detach().numpy(), \n",
        "        preds[\"labels\"].cpu().detach().numpy(), \n",
        "        preds[\"scores\"].cpu().detach().numpy()\n",
        "    ):\n",
        "\n",
        "        # Parse prediction into FiftyOne Detection object\n",
        "        x0, y0, x1, y1 = bbox / 300 * scale - shift\n",
        "        coco_obj = fouc.COCOObject(det_id, s_id, int(label), [x0, y0, x1-x0, y1-y0])\n",
        "        det = coco_obj.to_detection((w,h), classes)\n",
        "        det[\"confidence\"] = float(score)\n",
        "        dets.append(det)\n",
        "        det_id += 1\n",
        "        \n",
        "    detections = fo.Detections(detections=dets)\n",
        "        \n",
        "    return detections, det_id\n",
        "\n",
        "def add_detections(model, torch_dataset, view, field_name=\"predictions\"):\n",
        "    # Run inference on a dataset and add results to FiftyOne\n",
        "    torch.set_num_threads(1)\n",
        "    device = torch.device('cuda') if torch.cuda.is_available() else torch.device('cpu')\n",
        "    print(\"Using device %s\" % device)\n",
        "\n",
        "    model.eval()\n",
        "    model.to(device)\n",
        "    image_paths = torch_dataset.img_paths\n",
        "    classes = torch_dataset.classes\n",
        "    det_id = 0\n",
        "    \n",
        "    with fo.ProgressBar() as pb:\n",
        "        for img, targets in pb(torch_dataset):\n",
        "            # Get FiftyOne sample indexed by unique image filepath\n",
        "            img_id = int(targets[\"image_id\"][0])\n",
        "            img_path = image_paths[img_id]\n",
        "            sample = view[img_path]\n",
        "            s_id = sample.id\n",
        "            w, h = 0, 0\n",
        "            if sample.metadata is None:\n",
        "                img_raw = cv2.imread(img_path)\n",
        "                h, w, _ = img_raw.shape\n",
        "            else:\n",
        "                w = sample.metadata[\"width\"]\n",
        "                h = sample.metadata[\"height\"]\n",
        "            \n",
        "            # Inference\n",
        "            preds = model(img.unsqueeze(0).to(device))[0]\n",
        "            \n",
        "            detections, det_id = convert_torch_predictions(\n",
        "                preds, \n",
        "                det_id, \n",
        "                s_id, \n",
        "                w, \n",
        "                h, \n",
        "                classes,\n",
        "            )\n",
        "            \n",
        "            sample[field_name] = detections\n",
        "            sample.save()"
      ],
      "metadata": {
        "id": "gZ_Cvw_e4gYh"
      },
      "execution_count": null,
      "outputs": []
    },
    {
      "cell_type": "code",
      "source": [
        "torch_dataset_val = FiftyOneTorchDataset(sparrow_val_dataset, test_transform, \n",
        "        classes=classes_list, gt_field=\"detections\")"
      ],
      "metadata": {
        "id": "p0fXjnzBRv1-"
      },
      "execution_count": null,
      "outputs": []
    },
    {
      "cell_type": "code",
      "source": [
        "add_detections(model, torch_dataset_val, sparrow_val_dataset, field_name=\"predictions\")"
      ],
      "metadata": {
        "id": "O2hcgJaP4gWN"
      },
      "execution_count": null,
      "outputs": []
    },
    {
      "cell_type": "code",
      "source": [
        "metric_view = sparrow_val_dataset.filter_labels(\"predictions\", F(\"confidence\") > 0.5)"
      ],
      "metadata": {
        "id": "tiej7xXD4gTu"
      },
      "execution_count": null,
      "outputs": []
    },
    {
      "cell_type": "code",
      "source": [
        "results = fo.evaluate_detections(\n",
        "    metric_view,\n",
        "    \"predictions\",\n",
        "    gt_field=\"detections\", \n",
        "    classes=[\"Sparrow\"], \n",
        "    eval_key=\"eval\", \n",
        "    compute_mAP=True\n",
        ")"
      ],
      "metadata": {
        "id": "OkgRvP1i4gRU"
      },
      "execution_count": null,
      "outputs": []
    },
    {
      "cell_type": "code",
      "source": [
        "results.mAP(), results.metrics() "
      ],
      "metadata": {
        "id": "abOW0Bnn4gPD"
      },
      "execution_count": null,
      "outputs": []
    },
    {
      "cell_type": "code",
      "source": [
        "results.plot_pr_curves(backend='matplotlib')"
      ],
      "metadata": {
        "id": "GKkiehFmgZbQ"
      },
      "execution_count": null,
      "outputs": []
    },
    {
      "cell_type": "code",
      "source": [
        "session = fo.launch_app(metric_view)"
      ],
      "metadata": {
        "id": "p8ic8S53RsAZ"
      },
      "execution_count": null,
      "outputs": []
    },
    {
      "cell_type": "code",
      "source": [
        "torch.save(model.state_dict(), \"ssd300_sparrow_10epochs.pth\")"
      ],
      "metadata": {
        "id": "AM-cVSBT9nSP"
      },
      "execution_count": null,
      "outputs": []
    },
    {
      "cell_type": "code",
      "source": [
        ""
      ],
      "metadata": {
        "id": "PxIIhBkhj9l7"
      },
      "execution_count": null,
      "outputs": []
    }
  ]
}