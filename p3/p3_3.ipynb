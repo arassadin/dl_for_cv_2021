{
  "nbformat": 4,
  "nbformat_minor": 0,
  "metadata": {
    "colab": {
      "name": "YOLOv5.ipynb",
      "provenance": []
    },
    "kernelspec": {
      "name": "python3",
      "display_name": "Python 3"
    },
    "language_info": {
      "name": "python"
    }
  },
  "cells": [
    {
      "cell_type": "markdown",
      "source": [
        "# Install dependencies"
      ],
      "metadata": {
        "id": "vROs9LpJEJdb"
      }
    },
    {
      "cell_type": "code",
      "source": [
        "!pip install fiftyone==0.14.2 \n",
        "!pip install ipywidgets>=7.5\n",
        "!pip install tensorflow torch torchvision umap-learn\n",
        "!pip install albumentations==1.1.0\n",
        "!pip install opencv-python==4.5.5.62 \n",
        "!pip install opencv-python-headless==4.5.4.60"
      ],
      "metadata": {
        "id": "PYIAU8fS4uBC"
      },
      "execution_count": null,
      "outputs": []
    },
    {
      "cell_type": "markdown",
      "source": [
        "# Load data"
      ],
      "metadata": {
        "id": "sYHM3PQa4z7k"
      }
    },
    {
      "cell_type": "code",
      "execution_count": null,
      "metadata": {
        "id": "Qyy-gGai25a4"
      },
      "outputs": [],
      "source": [
        "import fiftyone as fo\n",
        "import fiftyone.zoo as foz\n"
      ]
    },
    {
      "cell_type": "code",
      "source": [
        "print(fo.list_datasets())\n"
      ],
      "metadata": {
        "id": "B0XSqCN0YwOm"
      },
      "execution_count": null,
      "outputs": []
    },
    {
      "cell_type": "markdown",
      "source": [
        "Using `persistent` property is useful when working in a local runtime session. Using Colab hosted runtime you will need to download the data again."
      ],
      "metadata": {
        "id": "ohY2beK97YLI"
      }
    },
    {
      "cell_type": "code",
      "source": [
        "classes_list = [\"Cat\", \"Dog\"]"
      ],
      "metadata": {
        "id": "hLVO2IvTa3Vc"
      },
      "execution_count": null,
      "outputs": []
    },
    {
      "cell_type": "code",
      "source": [
        "train_dataset = foz.load_zoo_dataset(\n",
        "    \"open-images-v6\", \n",
        "    split=\"train\", \n",
        "    label_types=[\"detections\"], \n",
        "    classes=classes_list,\n",
        "    max_samples=2000, \n",
        "    seed=51,\n",
        "    shuffle=True,\n",
        "    dataset_name=\"cat_dog_train\"\n",
        ")"
      ],
      "metadata": {
        "id": "i8fq76UD5Bqv"
      },
      "execution_count": null,
      "outputs": []
    },
    {
      "cell_type": "code",
      "source": [
        "test_dataset = foz.load_zoo_dataset(\n",
        "    \"open-images-v6\", \n",
        "    split=\"test\", \n",
        "    label_types=[\"detections\"], \n",
        "    classes=classes_list,\n",
        "    max_samples=500, \n",
        "    seed=51,\n",
        "    shuffle=True,\n",
        "    dataset_name=\"cat_dog_test\",\n",
        ")"
      ],
      "metadata": {
        "id": "iw5nW1_n5CTE"
      },
      "execution_count": null,
      "outputs": []
    },
    {
      "cell_type": "code",
      "source": [
        "val_dataset = foz.load_zoo_dataset(\n",
        "    \"open-images-v6\", \n",
        "    split=\"validation\", \n",
        "    label_types=[\"detections\"], \n",
        "    classes=classes_list,\n",
        "    seed=51,\n",
        "    max_samples=500, \n",
        "    shuffle=True,\n",
        "    dataset_name=\"cat_dog_val\",\n",
        ")"
      ],
      "metadata": {
        "id": "RYJNBMHb5F1R"
      },
      "execution_count": null,
      "outputs": []
    },
    {
      "cell_type": "code",
      "source": [
        "from fiftyone import ViewField as F\n",
        "\n",
        "\n",
        "train_dataset = fo.load_dataset(\"cat_dog_train\").filter_labels( \"detections\", F(\"label\").is_in(classes_list))\n",
        "test_dataset = fo.load_dataset(\"cat_dog_test\").filter_labels( \"detections\", F(\"label\").is_in(classes_list))\n",
        "val_dataset = fo.load_dataset(\"cat_dog_val\").filter_labels( \"detections\", F(\"label\").is_in(classes_list))"
      ],
      "metadata": {
        "id": "w6bikPI3aAHj"
      },
      "execution_count": null,
      "outputs": []
    },
    {
      "cell_type": "markdown",
      "source": [
        "# Export dataset to YOLO format"
      ],
      "metadata": {
        "id": "wLYx7C-KGDFS"
      }
    },
    {
      "cell_type": "code",
      "source": [
        "export_dir = \"/content/Datasets/CatDogYOLO\"\n",
        "label_field = \"detections\"  \n",
        "\n",
        "train_dataset.export(\n",
        "        export_dir=export_dir,\n",
        "        dataset_type=fo.types.YOLOv5Dataset,\n",
        "        label_field=label_field,\n",
        "        split=\"train\",\n",
        "        classes=classes_list,\n",
        "    )\n",
        "test_dataset.export(\n",
        "        export_dir=export_dir,\n",
        "        dataset_type=fo.types.YOLOv5Dataset,\n",
        "        label_field=label_field,\n",
        "        split=\"test\",\n",
        "        classes=classes_list,\n",
        "    )\n",
        "val_dataset.export(\n",
        "        export_dir=export_dir,\n",
        "        dataset_type=fo.types.YOLOv5Dataset,\n",
        "        label_field=label_field,\n",
        "        split=\"validation\",\n",
        "        classes=classes_list,\n",
        "    )"
      ],
      "metadata": {
        "id": "ElGJtWCyYqBL"
      },
      "execution_count": null,
      "outputs": []
    },
    {
      "cell_type": "code",
      "source": [
        "import os\n",
        "yaml_path = os.path.join(export_dir, 'dataset.yaml') "
      ],
      "metadata": {
        "id": "I66peNzVAlVS"
      },
      "execution_count": null,
      "outputs": []
    },
    {
      "cell_type": "code",
      "source": [
        "# Before changes\n",
        "!cat {yaml_path}"
      ],
      "metadata": {
        "id": "bQQ11HgI8o_C"
      },
      "execution_count": null,
      "outputs": []
    },
    {
      "cell_type": "markdown",
      "source": [
        "### Edit YAML file"
      ],
      "metadata": {
        "id": "J8I_XEI3_iSc"
      }
    },
    {
      "cell_type": "markdown",
      "source": [
        "Here we have to change the yaml file:\n",
        "*   add the \"path\" field, same as export_dir\n",
        "*   change \"validation\" field to \"val\""
      ],
      "metadata": {
        "id": "Inb768B68TfU"
      }
    },
    {
      "cell_type": "markdown",
      "source": [
        "In Colab you can edit a file in the `files` tab on the left\n",
        "\n",
        "**Before changes**\n",
        "```\n",
        "names:\n",
        "- Cat\n",
        "- Dog\n",
        "nc: 2\n",
        "test: ./images/test/\n",
        "train: ./images/train/\n",
        "validation: ./images/validation/\n",
        "```\n",
        "\n",
        "\n",
        "**After changes, file should look like this**\n",
        "```\n",
        "names:\n",
        "- Cat\n",
        "- Dog\n",
        "nc: 2\n",
        "path: /content/Datasets/CatDogYOLO \n",
        "test: ./images/test/\n",
        "train: ./images/train/\n",
        "val: ./images/validation/\n",
        "```\n",
        "\n",
        "\n"
      ],
      "metadata": {
        "id": "8NbM4dMX-i1o"
      }
    },
    {
      "cell_type": "code",
      "source": [
        "# Let's make sure the file has been successfully changed\n",
        "!cat {yaml_path}"
      ],
      "metadata": {
        "id": "a9edD9o-CFX4"
      },
      "execution_count": null,
      "outputs": []
    },
    {
      "cell_type": "markdown",
      "source": [
        "# Clone YOLOv5 repo"
      ],
      "metadata": {
        "id": "6079XlHPGJFK"
      }
    },
    {
      "cell_type": "code",
      "metadata": {
        "id": "wbvMlHd_QwMG"
      },
      "source": [
        "!git clone https://github.com/ultralytics/yolov5  # clone\n",
        "%cd yolov5\n",
        "%pip install -qr requirements.txt  # install requirements\n",
        "\n",
        "import torch\n",
        "from yolov5 import utils"
      ],
      "execution_count": null,
      "outputs": []
    },
    {
      "cell_type": "markdown",
      "source": [
        "# Train"
      ],
      "metadata": {
        "id": "vjiDtkn6GMfQ"
      }
    },
    {
      "cell_type": "code",
      "source": [
        "%load_ext tensorboard\n",
        "%tensorboard --logdir runs/train --port=6008"
      ],
      "metadata": {
        "id": "_1ghn5nJtEz1"
      },
      "execution_count": null,
      "outputs": []
    },
    {
      "cell_type": "code",
      "source": [
        "!python3 train.py --img 416 --batch 16 --epochs 50 --data {yaml_path} --weights yolov5n.pt --cache"
      ],
      "metadata": {
        "id": "wgWJd1_1Yp76"
      },
      "execution_count": null,
      "outputs": []
    },
    {
      "cell_type": "markdown",
      "source": [
        "# Run inference on test image"
      ],
      "metadata": {
        "id": "ScgsxlwkGVEj"
      }
    },
    {
      "cell_type": "code",
      "source": [
        "from IPython.display import Image"
      ],
      "metadata": {
        "id": "g962br7rLkT4"
      },
      "execution_count": null,
      "outputs": []
    },
    {
      "cell_type": "code",
      "source": [
        "# Get the first image from test directory\n",
        "test_dir = os.path.join(export_dir, \"images/test\")\n",
        "filename = os.listdir(test_dir)[0]\n",
        "test_image = os.path.join(test_dir, filename)\n",
        "test_image"
      ],
      "metadata": {
        "id": "Oy2EVGcbE_YN"
      },
      "execution_count": null,
      "outputs": []
    },
    {
      "cell_type": "code",
      "source": [
        "!python3 detect.py --weights runs/train/exp/weights/best.pt --img 416 --conf 0.25 --source {test_image}"
      ],
      "metadata": {
        "id": "77PPtRbgYp5b"
      },
      "execution_count": null,
      "outputs": []
    },
    {
      "cell_type": "code",
      "source": [
        "Image(filename=f'runs/detect/exp/{filename}', width=600)"
      ],
      "metadata": {
        "id": "yqwr4aXyLCTJ"
      },
      "execution_count": null,
      "outputs": []
    },
    {
      "cell_type": "code",
      "source": [
        ""
      ],
      "metadata": {
        "id": "n5iqtR_QAhy5"
      },
      "execution_count": null,
      "outputs": []
    }
  ]
}